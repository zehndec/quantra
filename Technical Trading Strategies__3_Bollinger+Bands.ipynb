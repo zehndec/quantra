{
 "cells": [
  {
   "cell_type": "markdown",
   "metadata": {},
   "source": [
    "# Notebook Instructions\n",
    "<i>You can run the notebook document sequentially (one cell a time) by pressing <b> shift + enter</b>. While a cell is running, a [*] will display on the left. When it has been run, a number will display indicating the order in which it was run in the notebook [8].</i>\n",
    "\n",
    "<i>Enter edit mode by pressing <b>`Enter`</b> or using the mouse to click on a cell's editor area. Edit mode is indicated by a green cell border and a prompt showing in the editor area.</i>"
   ]
  },
  {
   "cell_type": "markdown",
   "metadata": {
    "collapsed": true
   },
   "source": [
    "## Bollinger Bands\n",
    "In this notebook, we will see how to code the strategy that we discussed in the video lecture. "
   ]
  },
  {
   "cell_type": "markdown",
   "metadata": {},
   "source": [
    "## Import the libraries\n",
    "We will import the necessary libraries."
   ]
  },
  {
   "cell_type": "code",
   "execution_count": 16,
   "metadata": {
    "collapsed": false
   },
   "outputs": [],
   "source": [
    "import talib as t\n",
    "from talib import MA_Type\n",
    "import numpy as np\n",
    "from pandas_datareader import data as d\n",
    "import matplotlib.pyplot as plt\n",
    "import pandas as pd\n",
    "import datetime\n",
    "from quantrautil import get_data"
   ]
  },
  {
   "cell_type": "markdown",
   "metadata": {},
   "source": [
    "## Stock name start and end date of the data\n",
    "\n",
    "We will specify the name of the stock and the start and end date of the data to be fetched. We are using the past one year data of the stock SPDR Gold Shares ('GLD'). "
   ]
  },
  {
   "cell_type": "code",
   "execution_count": 17,
   "metadata": {
    "collapsed": false
   },
   "outputs": [],
   "source": [
    "s ='GLD'\n",
    "end_ =datetime.datetime.now()\n",
    "start_ =end_- datetime.timedelta(days=365)\n",
    "df = get_data(s,start_,end_)"
   ]
  },
  {
   "cell_type": "markdown",
   "metadata": {
    "collapsed": true
   },
   "source": [
    "## Value of 'n' for standard deviation\n",
    "\n",
    "We will choose a time window (n) for calculating the standard deviation of returns and the bollinger bands. We chose 60 because this would contain the past one quarter's performance, as there are 60 trading days in a quarter."
   ]
  },
  {
   "cell_type": "code",
   "execution_count": 18,
   "metadata": {
    "collapsed": true
   },
   "outputs": [],
   "source": [
    "n=60"
   ]
  },
  {
   "cell_type": "markdown",
   "metadata": {},
   "source": [
    "## Returns and standard deviation\n",
    "Next, we will calculate the daily returns and the standard deviation of these returns."
   ]
  },
  {
   "cell_type": "code",
   "execution_count": null,
   "metadata": {
    "collapsed": false
   },
   "outputs": [],
   "source": [
    "df['Ret']=np.log(df['Close']/df['Close'].shift(1))\n",
    "df['R_Std'] = pd.rolling_std(df['Ret'],window=n)"
   ]
  },
  {
   "cell_type": "markdown",
   "metadata": {},
   "source": [
    "## Bollinger Bands\n",
    "Now, it is time to calculate the Bollinger Bands. We do this by using the talib library which has a bollinger bands function that returns the three Bollinger Bands."
   ]
  },
  {
   "cell_type": "code",
   "execution_count": 20,
   "metadata": {
    "collapsed": true
   },
   "outputs": [],
   "source": [
    "df['upper'],df['middle'],df['lower']\\\n",
    "  = t.BBANDS(np.array(df['Close']), matype=MA_Type.T3)"
   ]
  },
  {
   "cell_type": "markdown",
   "metadata": {},
   "source": [
    "## Signal column\n",
    "\n",
    "We will create and populate the signal column as per the strategy criterion discussed in the video lecture. We check when the market cross the Upper Bollinger Bands and compare that day's return with the standard deviation of returns. Similarly, we will apply the opposite criterion as discussed in the video for the Lower Bollinger Band break out."
   ]
  },
  {
   "cell_type": "code",
   "execution_count": 21,
   "metadata": {
    "collapsed": false
   },
   "outputs": [],
   "source": [
    "df['Signal']=0\n",
    "df.loc[(df['upper'].shift(2)>df['Close'].shift(2))&(df['upper'].shift(1)<df['Close'].shift(1)) \\\n",
    "  & (df['R_Std'].shift(1)>df['Ret'].shift(1)),'Signal']=1\n",
    "df.loc[(df['lower'].shift(2)<df['Close'].shift(2))&(df['lower'].shift(1)>df['Close'].shift(1)) \\\n",
    "  & (-df['R_Std'].shift(1)<df['Ret'].shift(1)),'Signal']=-1"
   ]
  },
  {
   "cell_type": "markdown",
   "metadata": {},
   "source": [
    "## Strategy returns\n",
    "We will now calculate the daily returns from the strategy."
   ]
  },
  {
   "cell_type": "code",
   "execution_count": 22,
   "metadata": {
    "collapsed": true
   },
   "outputs": [],
   "source": [
    "df['Str_ret']=df['Signal']*df['Ret']"
   ]
  },
  {
   "cell_type": "markdown",
   "metadata": {},
   "source": [
    "## Number of trades\n",
    "Next, we will calculate the number of trades generated."
   ]
  },
  {
   "cell_type": "code",
   "execution_count": 23,
   "metadata": {
    "collapsed": true
   },
   "outputs": [],
   "source": [
    "trades = np.count_nonzero(df['Signal'])"
   ]
  },
  {
   "cell_type": "markdown",
   "metadata": {},
   "source": [
    "## Plot the returns\n",
    "Finally, we will plot the returns from the strategy to visualize it."
   ]
  },
  {
   "cell_type": "code",
   "execution_count": 24,
   "metadata": {
    "collapsed": false
   },
   "outputs": [
    {
     "data": {
      "image/png": "[encoded data removed]",
      "text/plain": [
       "<matplotlib.figure.Figure at 0x9de87f0>"
      ]
     },
     "metadata": {},
     "output_type": "display_data"
    }
   ],
   "source": [
    "plt.plot(df['Str_ret'].cumsum())\n",
    "plt.figtext(0.14,0.9,s='\\n\\nTrades:%i'%trades)\n",
    "plt.show()"
   ]
  }
 ],
 "metadata": {
  "anaconda-cloud": {},
  "kernelspec": {
   "display_name": "Python [default]",
   "language": "python",
   "name": "python2"
  },
  "language_info": {
   "codemirror_mode": {
    "name": "ipython",
    "version": 2
   },
   "file_extension": ".py",
   "mimetype": "text/x-python",
   "name": "python",
   "nbconvert_exporter": "python",
   "pygments_lexer": "ipython2",
   "version": "2.7.12"
  }
 },
 "nbformat": 4,
 "nbformat_minor": 2
}
