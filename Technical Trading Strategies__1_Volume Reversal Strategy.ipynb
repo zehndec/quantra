{
 "cells": [
  {
   "cell_type": "markdown",
   "metadata": {},
   "source": [
    "# Notebook Instructions\n",
    "<i>You can run the notebook document sequentially (one cell a time) by pressing <b> shift + enter</b>. While a cell is running, a [*] will display on the left. When it has been run, a number will display indicating the order in which it was run in the notebook [8].</i>\n",
    "\n",
    "<i>Enter edit mode by pressing <b>`Enter`</b> or using the mouse to click on a cell's editor area. Edit mode is indicated by a green cell border and a prompt showing in the editor area.</i>"
   ]
  },
  {
   "cell_type": "markdown",
   "metadata": {},
   "source": [
    "# Volume Reversal Strategy\n",
    "\n",
    "In this notebook, we will implement a trading strategy based on price movements corresponding to the trading volume of a security."
   ]
  },
  {
   "cell_type": "markdown",
   "metadata": {},
   "source": [
    "## Import the libraries\n",
    "First we will import the necessary libraries. We will be importing data function from pandas_datareader with an alias 'dr'."
   ]
  },
  {
   "cell_type": "code",
   "execution_count": 2,
   "metadata": {
    "collapsed": true
   },
   "outputs": [],
   "source": [
    "import numpy as np\n",
    "from pandas_datareader import data as dr\n",
    "import matplotlib.pyplot as plt\n",
    "import pandas as pd\n",
    "import datetime\n",
    "from quantrautil import get_data"
   ]
  },
  {
   "cell_type": "markdown",
   "metadata": {},
   "source": [
    "## Start and end date for the data\n",
    "Here, we will specify the start and the end date of the data to be fetched. We are using past one year data."
   ]
  },
  {
   "cell_type": "code",
   "execution_count": 3,
   "metadata": {
    "collapsed": true
   },
   "outputs": [],
   "source": [
    "end_ =datetime.datetime.now()\n",
    "start_ =end_- datetime.timedelta(days=365)"
   ]
  },
  {
   "cell_type": "markdown",
   "metadata": {},
   "source": [
    "## Stock data \n",
    "We will now fetch the data for Bank of America ('BAC') by using the get_data_google function from pandas_datareader library. We will be saving the data in the dataframe 'data'. We will then, print the data to visualize it by using the head() function which prints the top 5 rows of the dataset. "
   ]
  },
  {
   "cell_type": "code",
   "execution_count": 4,
   "metadata": {
    "collapsed": true
   },
   "outputs": [],
   "source": [
    "data= get_data('BAC',start_,end_)"
   ]
  },
  {
   "cell_type": "code",
   "execution_count": 5,
   "metadata": {
    "collapsed": false
   },
   "outputs": [
    {
     "data": {
      "text/html": [
       "<div>\n",
       "<table border=\"1\" class=\"dataframe\">\n",
       "  <thead>\n",
       "    <tr style=\"text-align: right;\">\n",
       "      <th></th>\n",
       "      <th>Open</th>\n",
       "      <th>High</th>\n",
       "      <th>Low</th>\n",
       "      <th>Close</th>\n",
       "      <th>Volume</th>\n",
       "    </tr>\n",
       "    <tr>\n",
       "      <th>Date</th>\n",
       "      <th></th>\n",
       "      <th></th>\n",
       "      <th></th>\n",
       "      <th></th>\n",
       "      <th></th>\n",
       "    </tr>\n",
       "  </thead>\n",
       "  <tbody>\n",
       "    <tr>\n",
       "      <th>2016-11-09</th>\n",
       "      <td>17.66</td>\n",
       "      <td>18.05</td>\n",
       "      <td>17.40</td>\n",
       "      <td>17.97</td>\n",
       "      <td>319516881</td>\n",
       "    </tr>\n",
       "    <tr>\n",
       "      <th>2016-11-10</th>\n",
       "      <td>18.26</td>\n",
       "      <td>18.99</td>\n",
       "      <td>18.25</td>\n",
       "      <td>18.76</td>\n",
       "      <td>304986449</td>\n",
       "    </tr>\n",
       "    <tr>\n",
       "      <th>2016-11-11</th>\n",
       "      <td>18.64</td>\n",
       "      <td>19.03</td>\n",
       "      <td>18.63</td>\n",
       "      <td>19.02</td>\n",
       "      <td>212952487</td>\n",
       "    </tr>\n",
       "    <tr>\n",
       "      <th>2016-11-14</th>\n",
       "      <td>19.41</td>\n",
       "      <td>20.20</td>\n",
       "      <td>19.40</td>\n",
       "      <td>20.08</td>\n",
       "      <td>320959885</td>\n",
       "    </tr>\n",
       "    <tr>\n",
       "      <th>2016-11-15</th>\n",
       "      <td>19.79</td>\n",
       "      <td>20.18</td>\n",
       "      <td>19.60</td>\n",
       "      <td>20.16</td>\n",
       "      <td>190293076</td>\n",
       "    </tr>\n",
       "  </tbody>\n",
       "</table>\n",
       "</div>"
      ],
      "text/plain": [
       "             Open   High    Low  Close     Volume\n",
       "Date                                             \n",
       "2016-11-09  17.66  18.05  17.40  17.97  319516881\n",
       "2016-11-10  18.26  18.99  18.25  18.76  304986449\n",
       "2016-11-11  18.64  19.03  18.63  19.02  212952487\n",
       "2016-11-14  19.41  20.20  19.40  20.08  320959885\n",
       "2016-11-15  19.79  20.18  19.60  20.16  190293076"
      ]
     },
     "execution_count": 5,
     "metadata": {},
     "output_type": "execute_result"
    }
   ],
   "source": [
    "data.head()"
   ]
  },
  {
   "cell_type": "markdown",
   "metadata": {},
   "source": [
    "## Price change for the last 5 days\n",
    "We will calculate the difference between the current price of the stock and the price of the stock five days ago. We will use shift() function for fetching the data for days in the past. data['Close'].shift(1) will give us yesterday's closing price, data['Close'].shift(6) will give us the closing price 6 days earlier. The difference of the two will give us the price change for the last 5 days and store this in a new column called 'pr_change'."
   ]
  },
  {
   "cell_type": "code",
   "execution_count": 6,
   "metadata": {
    "collapsed": true,
    "scrolled": true
   },
   "outputs": [],
   "source": [
    "data['pr_chg'] = data['Close'].shift(1)-data['Close'].shift(6)"
   ]
  },
  {
   "cell_type": "markdown",
   "metadata": {},
   "source": [
    "## Standard deviation of price change\n",
    "Next, we will calculate 100 days standard deviation of price change and store the value in a new column called 'std_100day' by using the rolling.std() function. This will help us to measure volatility of change in price for the stock."
   ]
  },
  {
   "cell_type": "code",
   "execution_count": null,
   "metadata": {
    "collapsed": false
   },
   "outputs": [],
   "source": [
    "data['std_100day'] = pd.rolling_std(data['pr_chg'],window=100)"
   ]
  },
  {
   "cell_type": "markdown",
   "metadata": {
    "collapsed": true
   },
   "source": [
    "## Average volume traded\n",
    "Now we will calculate the last 5 day's (previous week's) average traded volume by using the shift() and rolling.mean() functions and store the values in a new column '5d_avg_vol'. "
   ]
  },
  {
   "cell_type": "code",
   "execution_count": null,
   "metadata": {
    "collapsed": false
   },
   "outputs": [],
   "source": [
    "data['5d_avg_vol'] = pd.rolling_mean(data['Volume'].shift(1),window=5)"
   ]
  },
  {
   "cell_type": "markdown",
   "metadata": {},
   "source": [
    "## Average volume traded between last 5 to 10 days\n",
    "Next, we will calculate the average traded volume for last 5 to 10 days by shifting the values in column '5d_avg_vol' and store this value in a new column 'past 5d_avg_vol'."
   ]
  },
  {
   "cell_type": "code",
   "execution_count": 9,
   "metadata": {
    "collapsed": true
   },
   "outputs": [],
   "source": [
    "data['past 5d_avg_vol'] = data['5d_avg_vol'].shift(5)"
   ]
  },
  {
   "cell_type": "markdown",
   "metadata": {},
   "source": [
    "## Signal column\n",
    "To store the trading signals we will create a 'signal' column and store 0 values in it. "
   ]
  },
  {
   "cell_type": "code",
   "execution_count": 10,
   "metadata": {
    "collapsed": true
   },
   "outputs": [],
   "source": [
    "data['signal']=0"
   ]
  },
  {
   "cell_type": "markdown",
   "metadata": {},
   "source": [
    "## Buy signal \n",
    "A signal to buy will be triggered when the absolute value of the 5 day price change is greater than the 100 day standard deviation and the 5 day average traded volume is less than the 5 day average volume beginning 10 days prior and the 5 day price change is negative. We will assign a value of 1 to the column 'signal' when these coditions are met.\n",
    " \n",
    "\n",
    "Please note that we are comparing the 5 day average volume with 5 day average volume beginning 10 days prior instead of considering 75% of the 5 day average volume beginning 10 days prior as was stated in the video lecture because the number of signals generated were very low with the 75% condition. "
   ]
  },
  {
   "cell_type": "code",
   "execution_count": 11,
   "metadata": {
    "collapsed": true
   },
   "outputs": [],
   "source": [
    "data.loc[((data['pr_chg'].abs() > data['std_100day']) & (data['5d_avg_vol']<data['past 5d_avg_vol']) \n",
    "               & (data['pr_chg']<0)),'signal' ]=1"
   ]
  },
  {
   "cell_type": "markdown",
   "metadata": {},
   "source": [
    "## Sell signal \n",
    "Similarly, a sell signal will be generated when the value of price change is negative. In this case, we store a value of -1 to the signal column."
   ]
  },
  {
   "cell_type": "code",
   "execution_count": 12,
   "metadata": {
    "collapsed": true
   },
   "outputs": [],
   "source": [
    "data.loc[((data['pr_chg'].abs() > data['std_100day']) \\\n",
    "     & (data['5d_avg_vol']<data['past 5d_avg_vol']) \\\n",
    "        & (data['pr_chg']>0)),'signal' ]=-1"
   ]
  },
  {
   "cell_type": "markdown",
   "metadata": {},
   "source": [
    "## c_signal and exit columns \n",
    "Next, we will create two columns, c_signal and exit, to measure the count of continuous signals and the exit criterion respectively and store 0 values in them."
   ]
  },
  {
   "cell_type": "code",
   "execution_count": 13,
   "metadata": {
    "collapsed": true
   },
   "outputs": [],
   "source": [
    "data['c_signal']=0 \n",
    "data['exit']=0"
   ]
  },
  {
   "cell_type": "markdown",
   "metadata": {},
   "source": [
    "## Entry and Exit signal\n",
    "\n",
    "In this block of code, we will implement the core of the strategy. Here we will check for the last entry signal, if the signal is more than 5 days old then we exit the position, else we will continue to hold it until the signal is 5 days old or a counter signal is generated.\n",
    "\n",
    "Let us understand what we do in each of the if statements below:\n",
    "\n",
    "First, we check if a new signal is generated, if it is then we will assign the c_signal column equal to the new signal, and then we update the exit criterion according to the signal generated. In this case, we will check if the signal is 1 if it is so, then we will mark the exit count as 1 otherwise, we will mark it as -1.\n",
    "\n",
    "Next, we will check if the entry signal is same as the existing position. If it is so, then we will update the exit criterion depending on the position. For example, if you are already long then your c_signal would be 1, hence it will be incremented by 1. If you are short then your c_signal is -1 and your exit will be reduced by 1.\n",
    "\n",
    "After this, we will update the exit criterion for an already existing long trade. We check if the exit value of the c_signal is less 5 days old, if this is the case then we verify if the continuing signal is same as the previous days then we increment the exit by 1.\n",
    "\n",
    "\n",
    "Just as in the above step, we will update the exit criterion for an already existing short trade.\n",
    "\n",
    "\n",
    "Next, we will update the exit criterion to 0 on the fifth day after entering the trade. This is one of the conditions of the strategy and accordingly we will close all positions on their 5th day."
   ]
  },
  {
   "cell_type": "code",
   "execution_count": 14,
   "metadata": {
    "collapsed": false
   },
   "outputs": [],
   "source": [
    "for i in range(len(data)):\n",
    "    if((data.iloc[i]['signal']!=0) &(data.iloc[i]['signal']!= data.iloc[i-1]['c_signal'])) :\n",
    "        data.iloc[i,data.columns.get_loc('c_signal')]=data.iloc[i,data.columns.get_loc('signal')]\n",
    "        if data['signal'][i] ==1:\n",
    "            data.iloc[i,data.columns.get_loc('exit')]=1\n",
    "        else:\n",
    "            data.iloc[i,data.columns.get_loc('exit')]=-1\n",
    "    if((data['signal'][i]!=0) & (data['signal'][i]== data['c_signal'][i-1])) :\n",
    "        data.iloc[i,data.columns.get_loc('c_signal')]=data['c_signal'][i-1]\n",
    "        if data['c_signal'][i-1]==1:\n",
    "               data.iloc[i,data.columns.get_loc('exit')]=int(data['exit'][i-1])+1\n",
    "        else:\n",
    "            data.iloc[i,data.columns.get_loc('exit')]=int(data['exit'][i-1])-1\n",
    "    if((data['signal'][i]==0)&(data['exit'][i-1]<5)&(data['exit'][i-1]>0)):    \n",
    "        data.iloc[i,data.columns.get_loc('c_signal')]=data['c_signal'][i-1]\n",
    "        data.iloc[i,data.columns.get_loc('exit')]=int(data['exit'][i-1])+1\n",
    "    if((data['signal'][i]==0)&(data['exit'][i-1]>-5)&(data['exit'][i-1]<0)):    \n",
    "        data.iloc[i,data.columns.get_loc('c_signal')]=data['c_signal'][i-1]\n",
    "        data.iloc[i,data.columns.get_loc('exit')]=int(data['exit'][i-1])-1\n",
    "    if((data['signal'][i]==0)&((data['exit'][i-1]==5)|(data['exit'][i-1]==-5))):    \n",
    "        data.iloc[i,data.columns.get_loc('c_signal')]=0\n",
    "        data.iloc[i,data.columns.get_loc('exit')]=0"
   ]
  },
  {
   "cell_type": "code",
   "execution_count": 24,
   "metadata": {
    "collapsed": false
   },
   "outputs": [
    {
     "name": "stdout",
     "output_type": "stream",
     "text": [
      "             Open   High    Low  Close    Volume  pr_chg  std_100day  \\\n",
      "Date                                                                   \n",
      "2017-11-01  27.64  27.73  27.36  27.53  46527703   -0.29    0.713217   \n",
      "2017-11-02  27.51  27.94  27.28  27.87  59692017   -0.10    0.704850   \n",
      "2017-11-03  27.73  27.82  27.62  27.82  37816149    0.13    0.692333   \n",
      "2017-11-06  27.74  27.82  27.62  27.75  37261039    0.02    0.685955   \n",
      "2017-11-07  27.74  27.77  27.02  27.18  68342144    0.15    0.684968   \n",
      "\n",
      "            5d_avg_vol  past 5d_avg_vol  signal  c_signal  exit    return  \\\n",
      "Date                                                                        \n",
      "2017-11-01  59426654.8       70728787.6       0       0.0     0  0.005098   \n",
      "2017-11-02  52479130.2       75905361.6       0       0.0     0  0.012275   \n",
      "2017-11-03  53349036.8       76065319.6       0       0.0     0 -0.001796   \n",
      "2017-11-06  49140931.6       71083723.6       0       0.0     0 -0.002519   \n",
      "2017-11-07  46321620.4       67433707.0       0       0.0     0 -0.020754   \n",
      "\n",
      "            str_return  cu_str_return  cu_mar_return  \n",
      "Date                                                  \n",
      "2017-11-01         0.0       0.213449       0.160832  \n",
      "2017-11-02         0.0       0.213449       0.173107  \n",
      "2017-11-03        -0.0       0.213449       0.171311  \n",
      "2017-11-06        -0.0       0.213449       0.168792  \n",
      "2017-11-07        -0.0       0.213449       0.148037  \n"
     ]
    }
   ],
   "source": [
    "print(data.tail())"
   ]
  },
  {
   "cell_type": "markdown",
   "metadata": {},
   "source": [
    "## Market returns\n",
    "We will now calculate the returns of the market for each day by dividing the current day closing price by previous day's closing price."
   ]
  },
  {
   "cell_type": "code",
   "execution_count": 15,
   "metadata": {
    "collapsed": true
   },
   "outputs": [],
   "source": [
    "data['return'] = np.log(data['Close']/data['Close'].shift(1))"
   ]
  },
  {
   "cell_type": "markdown",
   "metadata": {},
   "source": [
    "## Strategy returns\n",
    "It is now time to calculate the returns of the strategy by taking the product of return and its corresponding value in the column c_signal."
   ]
  },
  {
   "cell_type": "code",
   "execution_count": 16,
   "metadata": {
    "collapsed": true
   },
   "outputs": [],
   "source": [
    "data['str_return']=data['return']*data['c_signal']"
   ]
  },
  {
   "cell_type": "markdown",
   "metadata": {},
   "source": [
    "## Cumulative returns\n",
    "We will create two new columns to calculate cumulative returns of the strategy and that of the market. "
   ]
  },
  {
   "cell_type": "code",
   "execution_count": 17,
   "metadata": {
    "collapsed": true
   },
   "outputs": [],
   "source": [
    "data['cu_str_return']=0\n",
    "data['cu_mar_return']=0"
   ]
  },
  {
   "cell_type": "markdown",
   "metadata": {},
   "source": [
    "## Returns after the first hundred days \n",
    "Next, we will calculate the strategy and market returns after the first hundred days as the first signal will need hundred days of data to calculate the standard deviation in the std_100 day column."
   ]
  },
  {
   "cell_type": "code",
   "execution_count": null,
   "metadata": {
    "collapsed": false
   },
   "outputs": [],
   "source": [
    "data.iloc[100:,data.columns.get_loc('cu_str_return')]=pd.expanding_sum(data['str_return'][100:])"
   ]
  },
  {
   "cell_type": "code",
   "execution_count": null,
   "metadata": {
    "collapsed": false
   },
   "outputs": [],
   "source": [
    "data.iloc[100:,data.columns.get_loc('cu_mar_return')]=pd.expanding_sum(data['return'][100:])"
   ]
  },
  {
   "cell_type": "code",
   "execution_count": 20,
   "metadata": {
    "collapsed": false
   },
   "outputs": [
    {
     "data": {
      "text/html": [
       "<div>\n",
       "<table border=\"1\" class=\"dataframe\">\n",
       "  <thead>\n",
       "    <tr style=\"text-align: right;\">\n",
       "      <th></th>\n",
       "      <th>cu_mar_return</th>\n",
       "      <th>cu_str_return</th>\n",
       "      <th>c_signal</th>\n",
       "    </tr>\n",
       "    <tr>\n",
       "      <th>Date</th>\n",
       "      <th></th>\n",
       "      <th></th>\n",
       "      <th></th>\n",
       "    </tr>\n",
       "  </thead>\n",
       "  <tbody>\n",
       "    <tr>\n",
       "      <th>2017-11-01</th>\n",
       "      <td>0.160832</td>\n",
       "      <td>0.213449</td>\n",
       "      <td>0.0</td>\n",
       "    </tr>\n",
       "    <tr>\n",
       "      <th>2017-11-02</th>\n",
       "      <td>0.173107</td>\n",
       "      <td>0.213449</td>\n",
       "      <td>0.0</td>\n",
       "    </tr>\n",
       "    <tr>\n",
       "      <th>2017-11-03</th>\n",
       "      <td>0.171311</td>\n",
       "      <td>0.213449</td>\n",
       "      <td>0.0</td>\n",
       "    </tr>\n",
       "    <tr>\n",
       "      <th>2017-11-06</th>\n",
       "      <td>0.168792</td>\n",
       "      <td>0.213449</td>\n",
       "      <td>0.0</td>\n",
       "    </tr>\n",
       "    <tr>\n",
       "      <th>2017-11-07</th>\n",
       "      <td>0.148037</td>\n",
       "      <td>0.213449</td>\n",
       "      <td>0.0</td>\n",
       "    </tr>\n",
       "  </tbody>\n",
       "</table>\n",
       "</div>"
      ],
      "text/plain": [
       "            cu_mar_return  cu_str_return  c_signal\n",
       "Date                                              \n",
       "2017-11-01       0.160832       0.213449       0.0\n",
       "2017-11-02       0.173107       0.213449       0.0\n",
       "2017-11-03       0.171311       0.213449       0.0\n",
       "2017-11-06       0.168792       0.213449       0.0\n",
       "2017-11-07       0.148037       0.213449       0.0"
      ]
     },
     "execution_count": 20,
     "metadata": {},
     "output_type": "execute_result"
    }
   ],
   "source": [
    "data[['cu_mar_return','cu_str_return','c_signal']].tail()"
   ]
  },
  {
   "cell_type": "markdown",
   "metadata": {},
   "source": [
    "## Plot the returns \n",
    "We will now plot the returns of the market and that of the strategy on a chart."
   ]
  },
  {
   "cell_type": "code",
   "execution_count": 21,
   "metadata": {
    "collapsed": false
   },
   "outputs": [
    {
     "data": {
      "image/png": "[encoded data removed]",
      "text/plain": [
       "<matplotlib.figure.Figure at 0x43de2e8>"
      ]
     },
     "metadata": {},
     "output_type": "display_data"
    }
   ],
   "source": [
    "plt.figure(figsize=(10,7))\n",
    "plt.plot(data['cu_str_return'][100:], color='g',label='Strategy Returns')\n",
    "plt.plot(data['cu_mar_return'][100:], color='r',label='Market Returns')\n",
    "plt.legend(loc='best')\n",
    "plt.show()"
   ]
  },
  {
   "cell_type": "markdown",
   "metadata": {},
   "source": [
    "## Sharpe ratio \n",
    "To evaluate the returns of the strategy we will calculate Sharpe ratio by dividing the difference between the cumulative strategy returns and that of market returns by cumulative strategy returns."
   ]
  },
  {
   "cell_type": "code",
   "execution_count": 22,
   "metadata": {
    "collapsed": false
   },
   "outputs": [
    {
     "data": {
      "text/plain": [
       "0.74274676908179049"
      ]
     },
     "execution_count": 22,
     "metadata": {},
     "output_type": "execute_result"
    }
   ],
   "source": [
    "(data['cu_str_return'].iloc[-1]-data['cu_mar_return'].iloc[-1])/data['cu_str_return'].std()"
   ]
  },
  {
   "cell_type": "markdown",
   "metadata": {
    "collapsed": true
   },
   "source": [
    "## Note: The number of signals generated may increase if we apply the strategy to a portfolio of stocks instead of just one stock."
   ]
  }
 ],
 "metadata": {
  "anaconda-cloud": {},
  "kernelspec": {
   "display_name": "Python [default]",
   "language": "python",
   "name": "python2"
  },
  "language_info": {
   "codemirror_mode": {
    "name": "ipython",
    "version": 2
   },
   "file_extension": ".py",
   "mimetype": "text/x-python",
   "name": "python",
   "nbconvert_exporter": "python",
   "pygments_lexer": "ipython2",
   "version": "2.7.12"
  }
 },
 "nbformat": 4,
 "nbformat_minor": 2
}
