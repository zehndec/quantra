{
 "cells": [
  {
   "cell_type": "markdown",
   "metadata": {},
   "source": [
    "# Notebook Instructions\n",
    "<i>You can run the notebook document sequentially (one cell a time) by pressing <b> shift + enter</b>. While a cell is running, a [*] will display on the left. When it has been run, a number will display indicating the order in which it was run in the notebook [8].</i>\n",
    "\n",
    "<i>Enter edit mode by pressing <b>`Enter`</b> or using the mouse to click on a cell's editor area. Edit mode is indicated by a green cell border and a prompt showing in the editor area.</i>"
   ]
  },
  {
   "cell_type": "markdown",
   "metadata": {},
   "source": [
    "## Exponential Moving Average, Parabolic SAR and Stochastic Oscillator\n",
    "In this notebook, we will implement a technical trading strategy based on  the three technical indicators which are Exponential Moving Average, Parabolic SAR and Stochastic Oscillator. While Exponential Moving Average will estimate the direction of the price, Parabolic SAR and Stochastic Oscillator will help to confirm the movement of price indicated by Exponential Moving Average."
   ]
  },
  {
   "cell_type": "markdown",
   "metadata": {},
   "source": [
    "## Import the libraries"
   ]
  },
  {
   "cell_type": "code",
   "execution_count": 1,
   "metadata": {
    "collapsed": true
   },
   "outputs": [],
   "source": [
    "import talib as t\n",
    "import numpy as np\n",
    "from pandas_datareader import data as d\n",
    "import matplotlib.pyplot as plt\n",
    "import datetime\n",
    "from quantrautil import get_data"
   ]
  },
  {
   "cell_type": "markdown",
   "metadata": {},
   "source": [
    "## Stock and time period\n",
    "Firstly, we will select the stock and the time period for which we want to test the strategy. We will apply the strategy to the  an ETF linked to Gold Prices ('GLD') for the last one year. "
   ]
  },
  {
   "cell_type": "code",
   "execution_count": 2,
   "metadata": {
    "collapsed": true
   },
   "outputs": [],
   "source": [
    "s ='GLD'\n",
    "end_ =datetime.datetime.now()\n",
    "start_ =end_- datetime.timedelta(days=365)\n",
    "df = get_data(s,start_,end_)"
   ]
  },
  {
   "cell_type": "markdown",
   "metadata": {},
   "source": [
    "## Settings for EMA and Parabolic SAR\n",
    "Next, we will choose a time window (n) for EMA and accelaration and maximum step for Parabolic SAR. Note that we have taken EMA for a period of 8 days while for Parabolic SAR we have taken an acceleration factor of 0.04 and maximum step of 0.2."
   ]
  },
  {
   "cell_type": "code",
   "execution_count": 3,
   "metadata": {
    "collapsed": true
   },
   "outputs": [],
   "source": [
    "n=8\n",
    "\n",
    "acc =0.04\n",
    "max_step=0.2"
   ]
  },
  {
   "cell_type": "markdown",
   "metadata": {},
   "source": [
    "## Creation of indicators\n",
    "Now, we will create the indicators that we require for the strategy by using talib library. In the code below we have created Parabolic Sar, Exponential Moving Average, Fast and Slow Stochastic Oscillator by using the settings that we specified in the previous code. "
   ]
  },
  {
   "cell_type": "code",
   "execution_count": 4,
   "metadata": {
    "collapsed": true
   },
   "outputs": [],
   "source": [
    "df['PSAR']= t.SAR(np.array(df['High']),np.array(df['Low']),acc,max_step)\n",
    "df['EMA']=t.EMA(np.array(df['Close']),timeperiod=n)\n",
    "df['STOCHF'],df['STOCHS']=t.STOCH(np.array(df['High']),np.array(df['Low']),\\\n",
    "  np.array(df['Close']),fastk_period=14, slowk_period=5, slowk_matype=0, \\\n",
    "          slowd_period=5, slowd_matype=0)"
   ]
  },
  {
   "cell_type": "markdown",
   "metadata": {},
   "source": [
    "## Signal Column\n",
    "Next, we will Create a signal column which will hold the predicted signals based on the indicators."
   ]
  },
  {
   "cell_type": "code",
   "execution_count": 5,
   "metadata": {
    "collapsed": true
   },
   "outputs": [],
   "source": [
    "df['Signal']=0\n",
    "\n",
    "df.loc[(df['EMA'].shift(1)>df['Close'].shift(1)) & (df['EMA']<df['Close']) &\\\n",
    "   (df['PSAR']<df['Close']) & (df['STOCHF']>df['STOCHS']) & (df['STOCHF']<80),'Signal']=1\n",
    "    \n",
    "df.loc[(df['EMA'].shift(1)<df['Close'].shift(1)) & (df['EMA']>df['Close']) &\\\n",
    "   (df['PSAR']>df['Close']) & (df['STOCHF']<df['STOCHS']) & (df['STOCHF']>20),'Signal']=-1"
   ]
  },
  {
   "cell_type": "markdown",
   "metadata": {
    "collapsed": true
   },
   "source": [
    "## Signal values as 0\n",
    "We will drop or remove all the rows which have a signal value equal to 0."
   ]
  },
  {
   "cell_type": "code",
   "execution_count": 6,
   "metadata": {
    "collapsed": true
   },
   "outputs": [],
   "source": [
    "df= df.drop((df[(df['Signal']==0)].index))"
   ]
  },
  {
   "cell_type": "markdown",
   "metadata": {},
   "source": [
    "## Same consecutive signals\n",
    "We will also drop all the rows which have same consecutive signals."
   ]
  },
  {
   "cell_type": "code",
   "execution_count": 7,
   "metadata": {
    "collapsed": true
   },
   "outputs": [],
   "source": [
    "df= df.drop(df[df['Signal']==df['Signal'].shift(1)].index)"
   ]
  },
  {
   "cell_type": "markdown",
   "metadata": {},
   "source": [
    "## Market Return\n",
    "Now, we will calculate the market return."
   ]
  },
  {
   "cell_type": "code",
   "execution_count": 8,
   "metadata": {
    "collapsed": true
   },
   "outputs": [],
   "source": [
    "df['Return'] = np.log(df['Close'].shift(-1)/df['Close'])"
   ]
  },
  {
   "cell_type": "markdown",
   "metadata": {},
   "source": [
    "## Strategy Returns\n",
    "Next, we will calculate the returns that we are able to gain from the strategy."
   ]
  },
  {
   "cell_type": "code",
   "execution_count": 9,
   "metadata": {
    "collapsed": true
   },
   "outputs": [],
   "source": [
    "df['Str_Return']=df['Return']*df['Signal']"
   ]
  },
  {
   "cell_type": "markdown",
   "metadata": {},
   "source": [
    "## Plot the results\n",
    "Lastly, we will plot the returns from the strategy on a chart."
   ]
  },
  {
   "cell_type": "code",
   "execution_count": 10,
   "metadata": {
    "collapsed": false
   },
   "outputs": [
    {
     "data": {
      "image/png": "[encoded data removed]",
      "text/plain": [
       "<matplotlib.figure.Figure at 0x9c8bd30>"
      ]
     },
     "metadata": {},
     "output_type": "display_data"
    }
   ],
   "source": [
    "plt.figure(figsize=(10,6))\n",
    "plt.plot(df['Str_Return'].cumsum())\n",
    "plt.show()"
   ]
  }
 ],
 "metadata": {
  "anaconda-cloud": {},
  "kernelspec": {
   "display_name": "Python [default]",
   "language": "python",
   "name": "python2"
  },
  "language_info": {
   "codemirror_mode": {
    "name": "ipython",
    "version": 2
   },
   "file_extension": ".py",
   "mimetype": "text/x-python",
   "name": "python",
   "nbconvert_exporter": "python",
   "pygments_lexer": "ipython2",
   "version": "2.7.12"
  }
 },
 "nbformat": 4,
 "nbformat_minor": 2
}
